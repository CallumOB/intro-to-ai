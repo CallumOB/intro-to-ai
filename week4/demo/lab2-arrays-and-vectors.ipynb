{
 "cells": [
  {
   "attachments": {},
   "cell_type": "markdown",
   "metadata": {},
   "source": [
    "# Iteration Over Lists and Vectors in Python"
   ]
  },
  {
   "cell_type": "code",
   "execution_count": 28,
   "metadata": {},
   "outputs": [
    {
     "name": "stdout",
     "output_type": "stream",
     "text": [
      "[4 2 6 1] \n",
      " [0.04744316 0.95579802 0.43085261 0.26136051]\n"
     ]
    }
   ],
   "source": [
    "import numpy as np\n",
    "\n",
    "# Creates two arrays, one randomly, and prints them\n",
    "v1 = np.array([4,2,6,1])\n",
    "v2 = np.random.rand(4)\n",
    "print(v1, \"\\n\", v2)"
   ]
  },
  {
   "cell_type": "code",
   "execution_count": 29,
   "metadata": {},
   "outputs": [],
   "source": [
    "# Squares all items in array v1\n",
    "w = [x**2 for x in v1]"
   ]
  },
  {
   "cell_type": "code",
   "execution_count": 30,
   "metadata": {},
   "outputs": [
    {
     "data": {
      "text/plain": [
       "[16, 4, 36, 1]"
      ]
     },
     "execution_count": 30,
     "metadata": {},
     "output_type": "execute_result"
    }
   ],
   "source": [
    "w"
   ]
  },
  {
   "cell_type": "code",
   "execution_count": 31,
   "metadata": {},
   "outputs": [
    {
     "data": {
      "text/plain": [
       "(4,)"
      ]
     },
     "execution_count": 31,
     "metadata": {},
     "output_type": "execute_result"
    }
   ],
   "source": [
    "# Returns the 'shape' of the array as a tuple. This array contains one element, itself containing 4 elements. \n",
    "v1.shape"
   ]
  },
  {
   "cell_type": "code",
   "execution_count": 32,
   "metadata": {},
   "outputs": [
    {
     "name": "stdout",
     "output_type": "stream",
     "text": [
      "4\n",
      "[0. 0. 0. 0.]\n",
      "[16.  4. 36.  1.]\n",
      "[16  4 36  1]\n"
     ]
    }
   ],
   "source": [
    "n, = v1.shape\n",
    "print(n)\n",
    "\n",
    "# Returns an array of the same size, filled with zeroes\n",
    "v3 = np.zeros(n)\n",
    "print(v3)\n",
    "\n",
    "# each element in v3 becomes the square of each element in v1\n",
    "for j in range(n):\n",
    "    v3[j] = v1[j]**2\n",
    "print(v3)\n",
    "\n",
    "# each element in v4 becomes the square of each element in v1\n",
    "v4 = v1**2\n",
    "print(v4)"
   ]
  },
  {
   "attachments": {},
   "cell_type": "markdown",
   "metadata": {},
   "source": [
    "# Matrix and Vector Multiplication"
   ]
  },
  {
   "cell_type": "code",
   "execution_count": 33,
   "metadata": {},
   "outputs": [
    {
     "name": "stdout",
     "output_type": "stream",
     "text": [
      "(4,) (4,)\n",
      "[1 2 3 4] [2 3 0 1]\n"
     ]
    }
   ],
   "source": [
    "import numpy as np\n",
    "u = np.array([1,2,3,4])\n",
    "v = np.array([2,3,0,1])\n",
    "print(u.shape, v.shape)\n",
    "print(u, v)"
   ]
  },
  {
   "cell_type": "code",
   "execution_count": 34,
   "metadata": {},
   "outputs": [
    {
     "name": "stdout",
     "output_type": "stream",
     "text": [
      "[2 6 0 4] 12\n"
     ]
    }
   ],
   "source": [
    "# Prints an array containing the product of each element of u and v \n",
    "# Then prints the 'dot product' of u and v \n",
    "print(u*v, u.dot(v))"
   ]
  },
  {
   "cell_type": "code",
   "execution_count": 35,
   "metadata": {},
   "outputs": [
    {
     "name": "stdout",
     "output_type": "stream",
     "text": [
      "(4, 1) \n",
      "\n",
      "[[1]\n",
      " [2]\n",
      " [3]\n",
      " [4]]\n"
     ]
    }
   ],
   "source": [
    "# Reshapes the array into a column vector with 4 rows \n",
    "cu = u.reshape(4, 1)\n",
    "print(cu.shape, \"\\n\")\n",
    "print(cu)"
   ]
  },
  {
   "cell_type": "code",
   "execution_count": 36,
   "metadata": {},
   "outputs": [
    {
     "name": "stdout",
     "output_type": "stream",
     "text": [
      "[[ 2  3  0  1]\n",
      " [ 4  6  0  2]\n",
      " [ 6  9  0  3]\n",
      " [ 8 12  0  4]]\n"
     ]
    }
   ],
   "source": [
    "print(cu * v) # hadamard product of cu and v"
   ]
  },
  {
   "cell_type": "code",
   "execution_count": 37,
   "metadata": {},
   "outputs": [
    {
     "name": "stdout",
     "output_type": "stream",
     "text": [
      "[[1 2]\n",
      " [3 4]] \n",
      "\n",
      " [[ 2  1]\n",
      " [-2  3]]\n"
     ]
    }
   ],
   "source": [
    "m1 = np.array([[1,2], [3,4]]) \n",
    "m2 = np.array([[2,1], [-2,3]])\n",
    "print(m1, \"\\n\\n\", m2)"
   ]
  },
  {
   "cell_type": "code",
   "execution_count": 38,
   "metadata": {},
   "outputs": [
    {
     "name": "stdout",
     "output_type": "stream",
     "text": [
      "[[ 2  2]\n",
      " [-6 12]] \n",
      "\n",
      " [[-2  7]\n",
      " [-2 15]]\n"
     ]
    }
   ],
   "source": [
    "# element-wise multiplicaiton and matrix multiplication\n",
    "print(m1*m2, \"\\n\\n\", m1.dot(m2))"
   ]
  },
  {
   "cell_type": "code",
   "execution_count": 39,
   "metadata": {},
   "outputs": [],
   "source": [
    "a = np.array([[1,0,0,0],\n",
    "             [0,1,1,0],\n",
    "             [0,0,1,2]])"
   ]
  },
  {
   "cell_type": "code",
   "execution_count": 40,
   "metadata": {},
   "outputs": [
    {
     "name": "stdout",
     "output_type": "stream",
     "text": [
      "[ 1  5 11] \n",
      "\n",
      "[[ 1]\n",
      " [ 5]\n",
      " [11]]\n"
     ]
    }
   ],
   "source": [
    "print(a.dot(u), \"\\n\")\n",
    "print(a.dot(cu))"
   ]
  },
  {
   "cell_type": "code",
   "execution_count": 41,
   "metadata": {},
   "outputs": [
    {
     "name": "stdout",
     "output_type": "stream",
     "text": [
      "[[1 0 0 0]\n",
      " [0 1 1 0]\n",
      " [0 0 1 2]] \n",
      "\n",
      "\n",
      " [[ 3  1]\n",
      " [ 2  2]\n",
      " [ 1  3]\n",
      " [ 1 11]]\n"
     ]
    }
   ],
   "source": [
    "b = np.array([[3,1], [2,2], [1,3], [1,11]])\n",
    "print(a, \"\\n\\n\\n\", b)"
   ]
  },
  {
   "cell_type": "code",
   "execution_count": 42,
   "metadata": {},
   "outputs": [
    {
     "name": "stdout",
     "output_type": "stream",
     "text": [
      "[[ 3  1]\n",
      " [ 3  5]\n",
      " [ 3 25]]\n"
     ]
    }
   ],
   "source": [
    "print(a.dot(b))"
   ]
  },
  {
   "attachments": {},
   "cell_type": "markdown",
   "metadata": {},
   "source": [
    "# Transpose of a Matrix"
   ]
  },
  {
   "cell_type": "code",
   "execution_count": 43,
   "metadata": {},
   "outputs": [
    {
     "data": {
      "text/plain": [
       "array([[1, 0, 0],\n",
       "       [0, 1, 0],\n",
       "       [0, 1, 1],\n",
       "       [0, 0, 2]])"
      ]
     },
     "execution_count": 43,
     "metadata": {},
     "output_type": "execute_result"
    }
   ],
   "source": [
    "a.T"
   ]
  },
  {
   "cell_type": "code",
   "execution_count": 44,
   "metadata": {},
   "outputs": [
    {
     "name": "stdout",
     "output_type": "stream",
     "text": [
      "(3, 4) (4, 3)\n"
     ]
    }
   ],
   "source": [
    "print(a.shape, a.T.shape)"
   ]
  },
  {
   "cell_type": "markdown",
   "metadata": {},
   "source": [
    "```python\n",
    "u.dot(a)\n",
    "```\n",
    "\n",
    "This line will return an error as a dot product can only be done with matrices of the same shape."
   ]
  },
  {
   "cell_type": "code",
   "execution_count": 45,
   "metadata": {},
   "outputs": [
    {
     "data": {
      "text/plain": [
       "array([ 1,  5, 11])"
      ]
     },
     "execution_count": 45,
     "metadata": {},
     "output_type": "execute_result"
    }
   ],
   "source": [
    "u.dot(a.T) # these are now the same size, and hence work "
   ]
  },
  {
   "attachments": {},
   "cell_type": "markdown",
   "metadata": {},
   "source": [
    "# Nested Loop in Python"
   ]
  },
  {
   "cell_type": "code",
   "execution_count": 46,
   "metadata": {},
   "outputs": [
    {
     "name": "stdout",
     "output_type": "stream",
     "text": [
      "[[0 0 0 0]\n",
      " [0 0 0 0]\n",
      " [0 0 0 0]]\n"
     ]
    }
   ],
   "source": [
    "# old-fasioned code to multiply each element of 'a' by 2\n",
    "(m ,n) = a.shape\n",
    "c = np.zeros((m,n), \"int32\")\n",
    "print(c)"
   ]
  },
  {
   "cell_type": "code",
   "execution_count": 47,
   "metadata": {},
   "outputs": [
    {
     "name": "stdout",
     "output_type": "stream",
     "text": [
      "[[2 0 0 0]\n",
      " [0 2 2 0]\n",
      " [0 0 2 4]]\n"
     ]
    }
   ],
   "source": [
    "for i in range(m):\n",
    "    for j in range(n):\n",
    "        c[i,j] = a[i,j] * 2\n",
    "\n",
    "print(c)"
   ]
  },
  {
   "cell_type": "code",
   "execution_count": 48,
   "metadata": {},
   "outputs": [
    {
     "name": "stdout",
     "output_type": "stream",
     "text": [
      "[[2 0 0 0]\n",
      " [0 2 2 0]\n",
      " [0 0 2 4]]\n"
     ]
    }
   ],
   "source": [
    "# easiest way\n",
    "print(a*2)"
   ]
  },
  {
   "attachments": {},
   "cell_type": "markdown",
   "metadata": {},
   "source": [
    "# Exercises\n",
    "### Matrix by Vector Multiplication without NumPy"
   ]
  },
  {
   "cell_type": "code",
   "execution_count": 49,
   "metadata": {},
   "outputs": [],
   "source": [
    "def multiply_matrix_by_vector(m, v): \n",
    "    R, C = m.shape\n",
    "    V, = v.shape\n",
    "    u = np.array([])\n",
    "\n",
    "    if C != V:\n",
    "        print(\"\\nArray and Vector shapes are not matching.\\n\")\n",
    "        return None\n",
    "\n",
    "    # u = m multiplied by v, initialise u to 0 \n",
    "    u = np.zeros(R)\n",
    "\n",
    "    for i in range(R):\n",
    "        for j in range(C):\n",
    "            u[i] += m[i][j] * v[j]\n",
    "\n",
    "    return u"
   ]
  },
  {
   "cell_type": "code",
   "execution_count": 50,
   "metadata": {},
   "outputs": [
    {
     "name": "stdout",
     "output_type": "stream",
     "text": [
      "[17. 39.]\n"
     ]
    }
   ],
   "source": [
    "m1 = np.array([[1,2], [3,4]])\n",
    "v1 = np.array([5, 6])\n",
    "m3 = multiply_matrix_by_vector(m1, v1)\n",
    "\n",
    "print(m3)"
   ]
  },
  {
   "attachments": {},
   "cell_type": "markdown",
   "metadata": {},
   "source": [
    "### Matrix by Matrix Multiplication without NumPy"
   ]
  },
  {
   "cell_type": "code",
   "execution_count": 51,
   "metadata": {},
   "outputs": [],
   "source": [
    "def multiply_matrices(a, b):\n",
    "    R1,C1 = a.shape\n",
    "    R2,C2 = b.shape \n",
    "\n",
    "    if C1 != R2:\n",
    "        print(\"\\nArray shapes are not matching.\\n\")\n",
    "        return None\n",
    "    \n",
    "    c = np.zeros((R1,C2))\n",
    "\n",
    "    for i in range(R1):\n",
    "        for j in range(C2):\n",
    "            for k in range (C1):\n",
    "                c[i][j] += a[i][k] * b[k][j]\n",
    "\n",
    "    return c"
   ]
  },
  {
   "cell_type": "code",
   "execution_count": 52,
   "metadata": {},
   "outputs": [
    {
     "name": "stdout",
     "output_type": "stream",
     "text": [
      "[[19. 22.]\n",
      " [43. 50.]]\n"
     ]
    }
   ],
   "source": [
    "m1 = np.array([[1,2], [3,4]])\n",
    "m2 = np.array([[5,6], [7,8]])\n",
    "m3 = multiply_matrices(m1, m2)\n",
    "\n",
    "print(m3)"
   ]
  },
  {
   "attachments": {},
   "cell_type": "markdown",
   "metadata": {},
   "source": [
    "### Multiplying a Vector by a List of Matrices"
   ]
  },
  {
   "cell_type": "code",
   "execution_count": 53,
   "metadata": {},
   "outputs": [],
   "source": [
    "def f(x, matrices):\n",
    "    y = x\n",
    "    for m in matrices:\n",
    "        y = m.dot(y)\n",
    "\n",
    "    return y"
   ]
  },
  {
   "cell_type": "code",
   "execution_count": 54,
   "metadata": {},
   "outputs": [
    {
     "name": "stdout",
     "output_type": "stream",
     "text": [
      "[27 59]\n"
     ]
    }
   ],
   "source": [
    "v1 = np.array([1,2])\n",
    "matrix_list = [np.array([[1,2],[3,4]]), np.array([[1,2], [3,4]])]\n",
    "\n",
    "print(f(v1, matrix_list))"
   ]
  }
 ],
 "metadata": {
  "kernelspec": {
   "display_name": "Python 3",
   "language": "python",
   "name": "python3"
  },
  "language_info": {
   "codemirror_mode": {
    "name": "ipython",
    "version": 3
   },
   "file_extension": ".py",
   "mimetype": "text/x-python",
   "name": "python",
   "nbconvert_exporter": "python",
   "pygments_lexer": "ipython3",
   "version": "3.11.5"
  },
  "orig_nbformat": 4
 },
 "nbformat": 4,
 "nbformat_minor": 2
}
