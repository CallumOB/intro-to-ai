{
 "cells": [
  {
   "cell_type": "code",
   "execution_count": 478,
   "metadata": {},
   "outputs": [],
   "source": [
    "# Python Lab test Nov 24, 2023\n",
    "import numpy as np\n",
    "import matplotlib as mplot\n",
    "import matplotlib.pyplot as plt"
   ]
  },
  {
   "cell_type": "code",
   "execution_count": 479,
   "metadata": {},
   "outputs": [
    {
     "name": "stdout",
     "output_type": "stream",
     "text": [
      "My name is  Callum O'Brien  and my ID is  C21306503 \n",
      "\n"
     ]
    }
   ],
   "source": [
    "# Q0  Write your name and student ID on the following lines and run this cell\n",
    "name = 'Callum O\\'Brien'\n",
    "sid = 'C21306503'\n",
    "print('My name is ', name, ' and my ID is ', sid, '\\n')"
   ]
  },
  {
   "cell_type": "code",
   "execution_count": 480,
   "metadata": {},
   "outputs": [
    {
     "data": {
      "text/plain": [
       "2"
      ]
     },
     "execution_count": 480,
     "metadata": {},
     "output_type": "execute_result"
    }
   ],
   "source": [
    "# Q1\n",
    "def convertVector(v):\n",
    "    for i in range(len(v)):\n",
    "        if v[i] == 1:\n",
    "            return i\n",
    "    \n",
    "    return \n",
    "\n",
    "u = np.array([[0],[0],[1],[0],[0],[0],[0],[0],[0],[0]])\n",
    "convertVector(u)"
   ]
  },
  {
   "cell_type": "code",
   "execution_count": 481,
   "metadata": {},
   "outputs": [],
   "source": [
    "# Q2\n",
    "# Rescue cat decider function. \n",
    "# rescueCat([have a dog, have cat allergy, is a kitten])\n",
    "def rescueCat(input):\n",
    "    weights = np.array([4, -1, 6])  \n",
    "    threshold = 3\n",
    "    # complete code, don't change the threshold value\n",
    "    if weights.dot(input) > threshold:\n",
    "        return 1\n",
    "    else:\n",
    "        return 0\n"
   ]
  },
  {
   "cell_type": "code",
   "execution_count": 482,
   "metadata": {},
   "outputs": [
    {
     "name": "stdout",
     "output_type": "stream",
     "text": [
      "0\n",
      "1\n",
      "1\n"
     ]
    }
   ],
   "source": [
    "# try it out on the 3 vector inputs described\n",
    "print(rescueCat([1, 1, 0]))\n",
    "print(rescueCat([1, 0, 0]))\n",
    "print(rescueCat([0, 0, 1]))"
   ]
  },
  {
   "cell_type": "code",
   "execution_count": 483,
   "metadata": {},
   "outputs": [],
   "source": [
    "# This class is complete and works correctly. You need it for Q3\n",
    "# Do not modify it.\n",
    "\n",
    "class Perceptron(object):\n",
    "    def __init__(self, n):\n",
    "        self.n = n\n",
    "        np.random.seed(2019)\n",
    "        self.w = np.random.randn(n,)  \n",
    "        self.b = np.random.randn() \n",
    "    \n",
    "    def feedforward(self, xs):\n",
    "        res = [self.w.dot(x) + self.b for x in xs]\n",
    "        return np.array([step(r) for r in res])\n",
    "   \n",
    "    def train(self, xs, ys, epochs, eta):\n",
    "        cost = np.zeros((epochs,), dtype=float)\n",
    "        \n",
    "        for ep in range(epochs):                \n",
    "            del_w = np.zeros((self.n,), dtype=float)\n",
    "            del_b = 0.0\n",
    "            \n",
    "            for x,y in zip(xs, ys):  \n",
    "                z = self.w.dot(x) + self.b\n",
    "                a = step(z)\n",
    "                e = y - a   \n",
    "                \n",
    "                cost[ep] += 0.5 * e**2\n",
    "                \n",
    "                del_w += eta * e * x  \n",
    "                del_b += eta * e      \n",
    "                                                                           \n",
    "            self.w += del_w\n",
    "            self.b += del_b\n",
    "            \n",
    "        return cost\n",
    "            \n",
    "def step(weighted_sum):\n",
    "    if weighted_sum <= 0:\n",
    "        return 0\n",
    "    else:\n",
    "        return 1\n",
    "\n",
    "def sigm(z):\n",
    "    return 1.0 / (1.0 + np.exp(-z))"
   ]
  },
  {
   "cell_type": "code",
   "execution_count": 484,
   "metadata": {},
   "outputs": [
    {
     "name": "stdout",
     "output_type": "stream",
     "text": [
      "[1 1 1 1]\n",
      "[0 0 0 1]\n"
     ]
    },
    {
     "data": {
      "text/plain": [
       "[<matplotlib.lines.Line2D at 0x14a36d550>]"
      ]
     },
     "execution_count": 484,
     "metadata": {},
     "output_type": "execute_result"
    },
    {
     "data": {
      "image/png": "[encoded data removed]",
      "text/plain": [
       "<Figure size 640x480 with 1 Axes>"
      ]
     },
     "metadata": {},
     "output_type": "display_data"
    }
   ],
   "source": [
    "# Q3 code for creating Perceptron and training it. \n",
    "# You will need the input vectors and the corresponding desired outputs.\n",
    "inputs = np.array([[0,0], [0,1], [1,0], [1,1]])\n",
    "\n",
    "targets = np.array([0, 0, 0, 1])\n",
    "\n",
    "c21306503 = Perceptron(2)\n",
    "print(c21306503.feedforward(inputs))\n",
    "\n",
    "epochs = 50\n",
    "eta = 0.03\n",
    "\n",
    "cst = c21306503.train(inputs, targets, epochs, eta)\n",
    "\n",
    "print(c21306503.feedforward(inputs))\n",
    "\n",
    "eps = [e for e in range(epochs)]\n",
    "plt.plot(eps, cst)\n"
   ]
  },
  {
   "cell_type": "code",
   "execution_count": 485,
   "metadata": {},
   "outputs": [],
   "source": [
    "# Q4\n",
    "# SigmoidPerceptron code\n",
    "\n",
    "class SigmoidPerceptron(object):\n",
    "    def __init__(self, n):\n",
    "        self.n = n\n",
    "        np.random.seed(2019)\n",
    "        self.w = np.random.randn(n,)  \n",
    "        self.b = np.random.randn() \n",
    "    \n",
    "    def feedforward(self, xs):\n",
    "        # res = [self.w.dot(x) + self.b for x in xs]\n",
    "        # return np.array([step(r) for r in res])\n",
    "\n",
    "        res = [sigm(self.w.dot(x) + self.b) for x in xs]\n",
    "        return np.array(res)\n",
    "   \n",
    "    def train(self, xs, ys, epochs, eta):\n",
    "        cost = np.zeros((epochs,), dtype=float)\n",
    "        \n",
    "        for ep in range(epochs):                \n",
    "            del_w = np.zeros((self.n,), dtype=float)\n",
    "            del_b = 0.0\n",
    "            \n",
    "            for x,y in zip(xs, ys):  \n",
    "                z = self.w.dot(x) + self.b\n",
    "                a = sigm(z) # changed from step(z) to sigm(z)\n",
    "                e = y - a    \n",
    "                \n",
    "                cost[ep] += 0.5 * e**2\n",
    "                \n",
    "                del_w += eta * e * x  \n",
    "                del_b += eta * e      \n",
    "                                                                           \n",
    "            self.w += del_w\n",
    "            self.b += del_b\n",
    "            \n",
    "        return cost\n",
    "            \n",
    "def step(weighted_sum):\n",
    "    if weighted_sum <= 0:\n",
    "        return 0\n",
    "    else:\n",
    "        return 1\n",
    "\n",
    "def sigm(z):\n",
    "    return 1.0 / (1.0 + np.exp(-z))\n",
    "\n",
    "\n"
   ]
  },
  {
   "cell_type": "code",
   "execution_count": 486,
   "metadata": {},
   "outputs": [
    {
     "name": "stdout",
     "output_type": "stream",
     "text": [
      "[0.81476551 0.90910315 0.77964501 0.88944202]\n",
      "[0.00119143 0.08545696 0.08541045 0.87974234]\n"
     ]
    },
    {
     "data": {
      "text/plain": [
       "[<matplotlib.lines.Line2D at 0x14a537210>]"
      ]
     },
     "execution_count": 486,
     "metadata": {},
     "output_type": "execute_result"
    },
    {
     "data": {
      "image/png": "[encoded data removed]",
      "text/plain": [
       "<Figure size 640x480 with 1 Axes>"
      ]
     },
     "metadata": {},
     "output_type": "display_data"
    }
   ],
   "source": [
    "# Q4\n",
    "\n",
    "catSP = SigmoidPerceptron(2)\n",
    "print(catSP.feedforward(inputs))\n",
    "\n",
    "epochs = 180\n",
    "eta = 0.3\n",
    "\n",
    "cst = catSP.train(inputs, targets, epochs, eta)\n",
    "\n",
    "print(catSP.feedforward(inputs))\n",
    "\n",
    "eps = [e for e in range(epochs)]\n",
    "plt.plot(eps, cst)\n"
   ]
  },
  {
   "cell_type": "code",
   "execution_count": 487,
   "metadata": {},
   "outputs": [],
   "source": [
    "# Q5 Complete the code below\n",
    "\n",
    "# define a 3 layer network: \n",
    "# 4 neurons in input layer, 3 hidden neurons in middle layer, \n",
    "# and 2 neurons in output layer. Hidden layer requires 3 by 4 matrix or array \n",
    "# Need one bias for each neuron in middle and output layers.\n",
    "# Fill weights and biases with random numbers.\n",
    "# No training\n",
    "\n",
    "\n",
    "class FakeNN(object):\n",
    "    def __init__(self):\n",
    "        np.random.seed(2021)\n",
    "        self.w2 = np.random.randn(3,4)   # weights for layer 2, hidden layer\n",
    "        self.b2 = np.random.randn(3, 1)    # bias of hidden layer\n",
    "        self.w3 = np.random.randn(3, 3)    # weights for layer 3, output layer\n",
    "        self.b3 = np.random.randn(3, 1)    # bias of output layer\n",
    "    \n",
    "    # following operation is to feed an input column vector through\n",
    "    # each network layer, with sigmoid activation function for\n",
    "    # each neuron\n",
    "    def feedforward(self, x):  # assumes x is a (4,1) shaped input column vector\n",
    "        # complete the code\n",
    "        z2 = np.dot(self.w2, x) + self.b2\n",
    "        a2 = sigm(z2)\n",
    "        \n",
    "        z3 = np.dot(self.w3, a2) + self.b3\n",
    "        a3 = sigm(z3)\n",
    "        \n",
    "        return a3\n",
    "    \n",
    "    def getCost(self, xs, ys):\n",
    "        cost = 0.0\n",
    "\n",
    "        # x = xs.reshape(3, 1)\n",
    "        # y = ys.reshape(2, 1)\n",
    "\n",
    "        # Forward pass\n",
    "        a_hidden = self.feedforward(xs)\n",
    "\n",
    "        if a_hidden.shape != ys.shape:\n",
    "            ys = np.resize(ys, a_hidden.shape)\n",
    "\n",
    "        # Calculate cost using Mean Squared Error (MSE)\n",
    "        cost += np.sum((a_hidden - ys) ** 2)\n",
    "\n",
    "        return cost\n",
    "\n",
    "def sigm(z):\n",
    "    return 1.0 / (1.0 + np.exp(-z))\n"
   ]
  },
  {
   "cell_type": "code",
   "execution_count": 488,
   "metadata": {},
   "outputs": [
    {
     "name": "stdout",
     "output_type": "stream",
     "text": [
      "[[0.43946468]\n",
      " [0.2935905 ]\n",
      " [0.98490126]]\n"
     ]
    }
   ],
   "source": [
    "input = np.array([1,1,0,1]).reshape(4,1)\n",
    "fake = FakeNN()\n",
    "\n",
    "print(fake.feedforward(input))      "
   ]
  },
  {
   "cell_type": "code",
   "execution_count": 489,
   "metadata": {},
   "outputs": [
    {
     "name": "stdout",
     "output_type": "stream",
     "text": [
      "1.6621740656351314\n"
     ]
    }
   ],
   "source": [
    "target = np.array([[0], [1]])\n",
    "# Given this target output for the input in previous cell, calculate the mean squared error\n",
    "# cost after feeding input through fake\n",
    "cost = fake.getCost(input, target)\n",
    "print(cost)\n"
   ]
  }
 ],
 "metadata": {
  "kernelspec": {
   "display_name": "Python 3 (ipykernel)",
   "language": "python",
   "name": "python3"
  },
  "language_info": {
   "codemirror_mode": {
    "name": "ipython",
    "version": 3
   },
   "file_extension": ".py",
   "mimetype": "text/x-python",
   "name": "python",
   "nbconvert_exporter": "python",
   "pygments_lexer": "ipython3",
   "version": "3.11.6"
  }
 },
 "nbformat": 4,
 "nbformat_minor": 4
}
