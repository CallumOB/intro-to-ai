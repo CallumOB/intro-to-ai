{
 "cells": [
  {
   "cell_type": "markdown",
   "metadata": {},
   "source": [
    "This a makey-upey neural network with 1 layer of 5 neurons which is the output layer.\n",
    "Each input has 4 values and is associated with desired output with 5 values. All this requires a 5 by 4 weight matrix.\n",
    "16 sample inputs and corresponding desired outputs are provided.\n",
    "\n",
    "Yout task is to write code for feedforward() and getCost().\n",
    "\n",
    "Then you are finally asked to add another layer to the network."
   ]
  },
  {
   "cell_type": "code",
   "execution_count": 49,
   "metadata": {},
   "outputs": [],
   "source": [
    "import numpy as np\n",
    "\n",
    "def sigm(z):\n",
    "    return 1.0 / (1.0 + np.exp(-z))"
   ]
  },
  {
   "cell_type": "code",
   "execution_count": 50,
   "metadata": {},
   "outputs": [
    {
     "name": "stdout",
     "output_type": "stream",
     "text": [
      "[[0 0 0 0]\n",
      " [0 0 0 1]\n",
      " [0 0 1 0]\n",
      " [0 0 1 1]\n",
      " [0 1 0 0]\n",
      " [0 1 0 1]\n",
      " [0 1 1 0]\n",
      " [0 1 1 1]\n",
      " [1 0 0 0]\n",
      " [1 0 0 1]\n",
      " [1 0 1 0]\n",
      " [1 0 1 1]\n",
      " [1 1 0 0]\n",
      " [1 1 0 1]\n",
      " [1 1 1 0]\n",
      " [1 1 1 1]] \n",
      "\n",
      "(16, 4) \n",
      "\n",
      "[[1 0 0 0 0]\n",
      " [1 0 0 0 0]\n",
      " [0 1 0 0 0]\n",
      " [0 1 0 0 0]\n",
      " [0 0 1 0 0]\n",
      " [0 0 1 0 0]\n",
      " [0 1 0 0 0]\n",
      " [0 0 1 0 0]\n",
      " [0 0 1 0 0]\n",
      " [0 0 1 0 0]\n",
      " [0 0 0 1 0]\n",
      " [0 0 0 1 0]\n",
      " [0 0 0 0 1]\n",
      " [0 0 0 1 0]\n",
      " [0 0 1 0 0]\n",
      " [0 1 0 0 0]] \n",
      "\n",
      "(16, 5)\n"
     ]
    }
   ],
   "source": [
    "inputs = np.array([[0,0,0,0],[0,0,0,1],[0,0,1,0],[0,0,1,1],\n",
    "                [0,1,0,0],[0,1,0,1],[0,1,1,0],[0,1,1,1],\n",
    "                [1,0,0,0],[1,0,0,1],[1,0,1,0],[1,0,1,1],\n",
    "                [1,1,0,0],[1,1,0,1],[1,1,1,0],[1,1,1,1]])\n",
    "\n",
    "# These target vectors or desired output have no meaning.\n",
    "targets = np.array([[1,0,0,0,0],[1,0,0,0,0],[0,1,0,0,0],[0,1,0,0,0],\n",
    "                   [0,0,1,0,0],[0,0,1,0,0],[0,1,0,0,0],[0,0,1,0,0],\n",
    "                   [0,0,1,0,0],[0,0,1,0,0],[0,0,0,1,0],[0,0,0,1,0],\n",
    "                   [0,0,0,0,1],[0,0,0,1,0],[0,0,1,0,0],[0,1,0,0,0]])\n",
    "print(inputs, '\\n')\n",
    "print(inputs.shape, '\\n')\n",
    "print(targets, '\\n')\n",
    "print(targets.shape)"
   ]
  },
  {
   "cell_type": "code",
   "execution_count": 51,
   "metadata": {},
   "outputs": [],
   "source": [
    "# NN with 4 inputs and 5 outputs\n",
    "\n",
    "class NN(object):\n",
    "    def __init__(self):\n",
    "        np.random.seed(2021)\n",
    "        self.w = np.random.randn(5,4) # weights matrix with 5 rows and 4 cols\n",
    "        self.b = np.random.randn(5,1) # 5 item column vector containing biases\n",
    "    \n",
    "    def feedforward(self, x):\n",
    "        # Input layer to hidden layer\n",
    "        z_hidden = np.dot(self.w, x.reshape(4, 1)) + self.b\n",
    "        a_hidden = sigm(z_hidden)\n",
    "\n",
    "        return a_hidden\n",
    "\n",
    "    def getCost(self, xs, ys):\n",
    "        cost = 0.0\n",
    "        # Note that each input x from xs and corresponding desired output y from ys\n",
    "        # are vectors of shape (4,) and (5,). They must first be rehaped into column\n",
    "        # vectors of shapes (4,1) and (5,1).\n",
    "\n",
    "        for i in range(len(xs)):\n",
    "            x = xs[i].reshape(4, 1)\n",
    "            y = ys[i].reshape(5, 1)\n",
    "\n",
    "            # Forward pass\n",
    "            a_hidden = self.feedforward(x)\n",
    "\n",
    "            # Calculate cost using Mean Squared Error (MSE)\n",
    "            cost += np.sum((a_hidden - y) ** 2)\n",
    "        \n",
    "            \n",
    "        return cost/16.0"
   ]
  },
  {
   "cell_type": "code",
   "execution_count": 52,
   "metadata": {},
   "outputs": [
    {
     "name": "stdout",
     "output_type": "stream",
     "text": [
      "[[ 1.48860905  0.67601087 -0.41845137 -0.80652081]\n",
      " [ 0.55587583 -0.70550429  1.13085826  0.64500184]\n",
      " [ 0.10641374  0.42215483  0.12420684 -0.83795346]\n",
      " [ 0.4090157   0.10275122 -1.90772239  1.1002243 ]\n",
      " [-1.40232506 -0.22508127 -1.33620597  0.30372151]] \n",
      "\n",
      "[[-0.72015884]\n",
      " [ 2.5449146 ]\n",
      " [ 1.31729112]\n",
      " [ 0.0726303 ]\n",
      " [-0.25610814]]\n"
     ]
    }
   ],
   "source": [
    "nn = NN()\n",
    "print(nn.w, '\\n')\n",
    "print(nn.b)"
   ]
  },
  {
   "cell_type": "code",
   "execution_count": 53,
   "metadata": {},
   "outputs": [
    {
     "data": {
      "text/plain": [
       "array([[0.32735801],\n",
       "       [0.92723113],\n",
       "       [0.78873067],\n",
       "       [0.5181496 ],\n",
       "       [0.43632065]])"
      ]
     },
     "execution_count": 53,
     "metadata": {},
     "output_type": "execute_result"
    }
   ],
   "source": [
    "# Test feed forward on first input vector\n",
    "# The input vector (shape 4,) must first be reshaped to a column vector (shape 4,1)\n",
    "nn.feedforward(inputs[0].reshape(4,1))"
   ]
  },
  {
   "cell_type": "code",
   "execution_count": 54,
   "metadata": {},
   "outputs": [
    {
     "data": {
      "text/plain": [
       "1.7771013151641077"
      ]
     },
     "execution_count": 54,
     "metadata": {},
     "output_type": "execute_result"
    }
   ],
   "source": [
    "# compute average MSE cost over all input vectors\n",
    "nn.getCost(inputs,targets)"
   ]
  },
  {
   "cell_type": "markdown",
   "metadata": {},
   "source": [
    "Exercise: Copy the above NN class definition and pasted it to a new cell, renaming the class to NN2. Then add a layer of six hidden neurons to it. Modify code in NN2 so that feedforward() and getCost() work on this new architecture. "
   ]
  },
  {
   "cell_type": "code",
   "execution_count": 55,
   "metadata": {},
   "outputs": [],
   "source": [
    "# NN with 4 inputs and 5 outputs, featuring two hidden layers\n",
    "\n",
    "class NN2(object):\n",
    "    def __init__(self):\n",
    "        np.random.seed(2021)\n",
    "        self.w1 = np.random.randn(5,4) # weights matrix with 5 rows and 4 cols for the first layer\n",
    "        self.b1 = np.random.randn(5,1) # 5 item column vector containing biases for the first layer\n",
    "\n",
    "        self.w2 = np.random.randn(5, 5) # weights matrix with 5 rows and 5 cols for the first layer\n",
    "        self.b2 = np.random.randn(5, 1) # 5 item column vector containing biases for the first layer\n",
    "    \n",
    "    def feedforward(self, x):\n",
    "        # Input layer to hidden layer 1\n",
    "        z_hidden1 = np.dot(self.w1, x.reshape(4, 1)) + self.b1\n",
    "        a_hidden1 = sigm(z_hidden1)\n",
    "\n",
    "        # Hidden layer 1 to hidden layer 2, where z of layer 2 is found using the values from layer 1 rather than the input layer\n",
    "        z_hidden2 = np.dot(self.w2, a_hidden1) + self.b2\n",
    "        a_hidden2 = sigm(z_hidden2)\n",
    "\n",
    "        # Values found in the second hidden layer are returned to the user\n",
    "        return a_hidden2\n",
    "\n",
    "    def getCost(self, xs, ys):\n",
    "        cost = 0.0\n",
    "\n",
    "        for i in range(len(xs)):\n",
    "            x = xs[i].reshape(4, 1)\n",
    "            y = ys[i].reshape(5, 1)\n",
    "\n",
    "            # Forward pass\n",
    "            a_hidden = self.feedforward(x)\n",
    "\n",
    "            # Calculate cost using Mean Squared Error (MSE)\n",
    "            cost += np.sum((a_hidden - y) ** 2)\n",
    "        \n",
    "            \n",
    "        return cost/16.0"
   ]
  },
  {
   "cell_type": "code",
   "execution_count": 56,
   "metadata": {},
   "outputs": [
    {
     "name": "stdout",
     "output_type": "stream",
     "text": [
      "[[ 1.48860905  0.67601087 -0.41845137 -0.80652081]\n",
      " [ 0.55587583 -0.70550429  1.13085826  0.64500184]\n",
      " [ 0.10641374  0.42215483  0.12420684 -0.83795346]\n",
      " [ 0.4090157   0.10275122 -1.90772239  1.1002243 ]\n",
      " [-1.40232506 -0.22508127 -1.33620597  0.30372151]] \n",
      "\n",
      "[[-0.72015884]\n",
      " [ 2.5449146 ]\n",
      " [ 1.31729112]\n",
      " [ 0.0726303 ]\n",
      " [-0.25610814]]\n"
     ]
    }
   ],
   "source": [
    "nn2 = NN2()\n",
    "print(nn2.w1, '\\n')\n",
    "print(nn.b)"
   ]
  },
  {
   "cell_type": "code",
   "execution_count": 57,
   "metadata": {},
   "outputs": [
    {
     "data": {
      "text/plain": [
       "array([[0.95275262],\n",
       "       [0.74465632],\n",
       "       [0.06203023],\n",
       "       [0.37010613],\n",
       "       [0.68936733]])"
      ]
     },
     "execution_count": 57,
     "metadata": {},
     "output_type": "execute_result"
    }
   ],
   "source": [
    "nn2.feedforward(inputs[0].reshape(4, 1))"
   ]
  }
 ],
 "metadata": {
  "kernelspec": {
   "display_name": "Python 3",
   "language": "python",
   "name": "python3"
  },
  "language_info": {
   "codemirror_mode": {
    "name": "ipython",
    "version": 3
   },
   "file_extension": ".py",
   "mimetype": "text/x-python",
   "name": "python",
   "nbconvert_exporter": "python",
   "pygments_lexer": "ipython3",
   "version": "3.11.6"
  }
 },
 "nbformat": 4,
 "nbformat_minor": 4
}
