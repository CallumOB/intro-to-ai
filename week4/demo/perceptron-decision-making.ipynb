{
 "cells": [
  {
   "cell_type": "code",
   "execution_count": 1,
   "metadata": {},
   "outputs": [
    {
     "data": {
      "text/plain": [
       "6"
      ]
     },
     "execution_count": 1,
     "metadata": {},
     "output_type": "execute_result"
    }
   ],
   "source": [
    "# Here we will be using the example from Nielsen of whether to attend the cheese festive or not.\n",
    "# Our choice is based on 3 inputs: weather, friend, public transport\n",
    "# For example input [0,1,0] means bad weather, friend available, no public transport\n",
    "# A Perceptron can make this decision for us\n",
    "\n",
    "# First we will play around with vector dot product and matrix transpose etc\n",
    "\n",
    "# initial weights for a decision perceptron and sample inputs\n",
    "\n",
    "import numpy as np\n",
    "# sample weights vector w  and two input vectors i1 and i2\n",
    "w = np.array([6,2,2])\n",
    "i1 = np.array([1,0,0])\n",
    "i2 = np.array([0,1,1])\n",
    "\n",
    "# dot product of 2 vectors\n",
    "w.dot(i1)"
   ]
  },
  {
   "cell_type": "code",
   "execution_count": 2,
   "metadata": {},
   "outputs": [
    {
     "data": {
      "text/plain": [
       "4"
      ]
     },
     "execution_count": 2,
     "metadata": {},
     "output_type": "execute_result"
    }
   ],
   "source": [
    "w.dot(i2)"
   ]
  },
  {
   "cell_type": "code",
   "execution_count": 3,
   "metadata": {},
   "outputs": [
    {
     "name": "stdout",
     "output_type": "stream",
     "text": [
      "[[1 0 0]\n",
      " [0 1 1]]\n"
     ]
    }
   ],
   "source": [
    "# Put i1 and i2 into into a matrix, ecah vector will be a row.\n",
    "ins = np.array([i1, i2])\n",
    "print(ins)"
   ]
  },
  {
   "cell_type": "markdown",
   "metadata": {},
   "source": [
    "### Why does the following code give errors?\n",
    "```python\n",
    "w.dot(ins)\n",
    "```"
   ]
  },
  {
   "cell_type": "markdown",
   "metadata": {},
   "source": [
    "The code above gives an error, as we cannot multiply a vector by a matrix. We can however multiply a matrix by a vector, which is why a transpose works. "
   ]
  },
  {
   "cell_type": "code",
   "execution_count": 4,
   "metadata": {},
   "outputs": [
    {
     "name": "stdout",
     "output_type": "stream",
     "text": [
      "[[1 0]\n",
      " [0 1]\n",
      " [0 1]]\n"
     ]
    },
    {
     "data": {
      "text/plain": [
       "array([6, 4])"
      ]
     },
     "execution_count": 4,
     "metadata": {},
     "output_type": "execute_result"
    }
   ],
   "source": [
    "# A matrix transpose will convert rows into columnms and vice versa\n",
    "print(ins.T)\n",
    "w.dot(ins.T)"
   ]
  },
  {
   "cell_type": "code",
   "execution_count": 5,
   "metadata": {},
   "outputs": [
    {
     "data": {
      "text/plain": [
       "array([6, 4])"
      ]
     },
     "execution_count": 5,
     "metadata": {},
     "output_type": "execute_result"
    }
   ],
   "source": [
    "# Alternatively instead of using the transpose of ins, we could rearrange the dot product\n",
    "ins.dot(w)"
   ]
  },
  {
   "cell_type": "code",
   "execution_count": 6,
   "metadata": {},
   "outputs": [],
   "source": [
    "# Now we provide the full code for single decision perceptron for attending cheese festival or not\n",
    "# 3 variable input: weather good, friend coming too, public transport\n",
    "# Note that we are not training the Perceptron here. That's for the next lab\n",
    "\n",
    "import numpy as np\n",
    "\n",
    "def cheese_decide(input):\n",
    "    weights = np.array([6,2,2])\n",
    "    threshold = 5\n",
    "    if weights.dot(input) > threshold:\n",
    "        return 1\n",
    "    else:\n",
    "        return 0\n"
   ]
  },
  {
   "cell_type": "code",
   "execution_count": 7,
   "metadata": {},
   "outputs": [
    {
     "data": {
      "text/plain": [
       "1"
      ]
     },
     "execution_count": 7,
     "metadata": {},
     "output_type": "execute_result"
    }
   ],
   "source": [
    "# Perceptron favours good weather above all in deciding\n",
    "cheese_decide(i1)"
   ]
  },
  {
   "cell_type": "code",
   "execution_count": 8,
   "metadata": {},
   "outputs": [
    {
     "data": {
      "text/plain": [
       "0"
      ]
     },
     "execution_count": 8,
     "metadata": {},
     "output_type": "execute_result"
    }
   ],
   "source": [
    "# with poor weather, even with a friend coimg and public transport available not enough to go\n",
    "cheese_decide(i2)"
   ]
  },
  {
   "cell_type": "code",
   "execution_count": 9,
   "metadata": {},
   "outputs": [
    {
     "data": {
      "text/plain": [
       "1"
      ]
     },
     "execution_count": 9,
     "metadata": {},
     "output_type": "execute_result"
    }
   ],
   "source": [
    "# if you change threshold to 3 instead of 5, then with poor weather, friend coming and \n",
    "# public transport are enough to decide to go\n",
    "\n",
    "def cheese_decide(input):\n",
    "    weights = np.array([6,2,2])\n",
    "    threshold = 3\n",
    "    if weights.dot(input) > threshold:\n",
    "        return 1\n",
    "    else:\n",
    "        return 0\n",
    "\n",
    "cheese_decide( i2)"
   ]
  },
  {
   "cell_type": "code",
   "execution_count": 10,
   "metadata": {},
   "outputs": [],
   "source": [
    "# redfine cheese_decide perceptron to use bias instead of threshold, i.e. instead of \n",
    "# weights.dot(input) - threshold > 0  use\n",
    "# weights.dot(input) + bias >  0\n",
    "\n",
    "def cheese_decide1(input):\n",
    "    weights = np.array([6,2,2])\n",
    "    bias = -3\n",
    "    if weights.dot(input) + bias > 0:\n",
    "        return 1\n",
    "    else:\n",
    "        return 0\n"
   ]
  },
  {
   "cell_type": "code",
   "execution_count": 11,
   "metadata": {},
   "outputs": [
    {
     "data": {
      "text/plain": [
       "(1, 1, 0)"
      ]
     },
     "execution_count": 11,
     "metadata": {},
     "output_type": "execute_result"
    }
   ],
   "source": [
    "cheese_decide1([1,0,0]), cheese_decide1([0,1,1]), cheese_decide1([0,0,1])"
   ]
  },
  {
   "cell_type": "markdown",
   "metadata": {},
   "source": [
    "# Exercises"
   ]
  },
  {
   "cell_type": "markdown",
   "metadata": {},
   "source": [
    "### Exercise 1 \n",
    "\n",
    "Write a function nand(x) for a 2 input perceptron that implements logical NAND with weights -2 and -2 and bias 3. "
   ]
  },
  {
   "cell_type": "code",
   "execution_count": 12,
   "metadata": {},
   "outputs": [
    {
     "name": "stdout",
     "output_type": "stream",
     "text": [
      "[[0 0]\n",
      " [0 1]\n",
      " [1 0]\n",
      " [1 1]]\n"
     ]
    }
   ],
   "source": [
    "inputs = np.array([[0,0],[0,1], [1,0], [1,1]])\n",
    "print(inputs)"
   ]
  },
  {
   "cell_type": "code",
   "execution_count": 13,
   "metadata": {},
   "outputs": [
    {
     "name": "stdout",
     "output_type": "stream",
     "text": [
      "1 1 1 0\n"
     ]
    }
   ],
   "source": [
    "# complete the code and run it\n",
    "\n",
    "def nand(x):  \n",
    "    weights = np.array([-2, -2])\n",
    "    bias = 3\n",
    "    if weights.dot(x) + bias > 0:\n",
    "        return 1\n",
    "    else: \n",
    "        return 0\n",
    "\n",
    "\n",
    "print(nand(inputs[0]), nand(inputs[1]), nand(inputs[2]), nand(inputs[3]))"
   ]
  },
  {
   "cell_type": "markdown",
   "metadata": {},
   "source": [
    "### Exercise 2\n",
    "\n",
    "Rewrite the function nand(xs) for the 2 input perceptron that implements logical NAND with weights -2 and -2 and bias 3 except that this time all the 4 input vectos are supplied together as a 4 by 2 array. Should return 4 corresponding ouputs as a vector. This will necessitate a loop to iteration thru all the input vectors."
   ]
  },
  {
   "cell_type": "code",
   "execution_count": 22,
   "metadata": {},
   "outputs": [
    {
     "data": {
      "text/plain": [
       "array([1., 1., 1., 0.])"
      ]
     },
     "execution_count": 22,
     "metadata": {},
     "output_type": "execute_result"
    }
   ],
   "source": [
    "# Modify nand() so that is can process all the input vectos togethjer\n",
    "# complete the code and run it\n",
    "\n",
    "\n",
    "def nand(xs):\n",
    "    weights = np.array([-2, -2])\n",
    "    bias = 3\n",
    "    return_array = np.zeros(xs.shape[0])\n",
    "    for i in range(xs.shape[0]):\n",
    "        if weights.dot(xs[i]) + bias > 0:\n",
    "            return_array[i] = 1\n",
    "        else:\n",
    "            return_array[i] = 0\n",
    "\n",
    "    return return_array\n",
    "\n",
    "nand(inputs)"
   ]
  },
  {
   "cell_type": "markdown",
   "metadata": {},
   "source": [
    "### Exercise 3: sigmoid function exercises\n"
   ]
  },
  {
   "cell_type": "code",
   "execution_count": 25,
   "metadata": {},
   "outputs": [
    {
     "name": "stdout",
     "output_type": "stream",
     "text": [
      "Sigmoid(-10) = 4.5397868702434395e-05\n",
      "Sigmoid(-5) = 0.0066928509242848554\n",
      "Sigmoid(-1) = 0.2689414213699951\n",
      "Sigmoid(0) = 0.5\n",
      "Sigmoid(1) = 0.7310585786300049\n",
      "Sigmoid(5) = 0.9933071490757153\n",
      "Sigmoid(10) = 0.9999546021312976\n",
      "Sigmoid(100) = 1.0\n"
     ]
    }
   ],
   "source": [
    "# write code for this activation function and test it\n",
    "def sigmoid(z):\n",
    "    return 1 / (1 + np.exp(-z))\n",
    "\n",
    "test_values = [-10, -5, -1, 0, 1, 5, 10, 100]\n",
    "\n",
    "for value in test_values:\n",
    "    result = sigmoid(value)\n",
    "    print(f\"Sigmoid({value}) = {result}\")"
   ]
  },
  {
   "cell_type": "code",
   "execution_count": 34,
   "metadata": {},
   "outputs": [
    {
     "data": {
      "image/png": "[encoded data removed]",
      "text/plain": [
       "<Figure size 800x600 with 1 Axes>"
      ]
     },
     "metadata": {},
     "output_type": "display_data"
    }
   ],
   "source": [
    "# use Matplotlib to plot a graph of sigmoid\n",
    "# Look up an online tutorial for a simple example\n",
    "import matplotlib as mplot\n",
    "import matplotlib.pyplot as plt\n",
    "\n",
    "# Test the sigmoid function\n",
    "# Generate an array of 100 values between -10 and 10\n",
    "z_values = np.linspace(-10, 10, 100)\n",
    "\n",
    "# Calculate the sigmoid for each value\n",
    "sigmoid_values = sigmoid(z_values)\n",
    "\n",
    "# Plot the sigmoid function\n",
    "plt.figure(figsize=(8, 6))\n",
    "plt.plot(z_values, sigmoid_values, label='Sigmoid Function')\n",
    "plt.title('Sigmoid Function')\n",
    "plt.xlabel('z')\n",
    "plt.ylabel('sigmoid(z)')\n",
    "plt.legend()\n",
    "plt.grid(True)\n",
    "plt.show()"
   ]
  }
 ],
 "metadata": {
  "kernelspec": {
   "display_name": "Python 3",
   "language": "python",
   "name": "python3"
  },
  "language_info": {
   "codemirror_mode": {
    "name": "ipython",
    "version": 3
   },
   "file_extension": ".py",
   "mimetype": "text/x-python",
   "name": "python",
   "nbconvert_exporter": "python",
   "pygments_lexer": "ipython3",
   "version": "3.11.5"
  }
 },
 "nbformat": 4,
 "nbformat_minor": 4
}
