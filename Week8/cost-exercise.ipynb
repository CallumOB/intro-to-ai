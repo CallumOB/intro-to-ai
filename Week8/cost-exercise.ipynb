{
 "cells": [
  {
   "cell_type": "markdown",
   "metadata": {},
   "source": [
    "This a makey-upey neural network with 1 layer of 5 neurons which is the output layer.\n",
    "Each input has 4 values and is associated with desired output with 5 values. All this requires a 5 by 4 weight matrix.\n",
    "16 sample inputs and corresponding desired outputs are provided.\n",
    "\n",
    "Yout task is to write code for feedforward() and getCost().\n",
    "\n",
    "Then you are finally asked to add another layer to the network."
   ]
  },
  {
   "cell_type": "code",
   "execution_count": 1,
   "metadata": {},
   "outputs": [],
   "source": [
    "import numpy as np\n",
    "\n",
    "def sigm(z):\n",
    "    return 1.0 / (1.0 + np.exp(-z))"
   ]
  },
  {
   "cell_type": "code",
   "execution_count": 2,
   "metadata": {},
   "outputs": [
    {
     "name": "stdout",
     "output_type": "stream",
     "text": [
      "[[0 0 0 0]\n",
      " [0 0 0 1]\n",
      " [0 0 1 0]\n",
      " [0 0 1 1]\n",
      " [0 1 0 0]\n",
      " [0 1 0 1]\n",
      " [0 1 1 0]\n",
      " [0 1 1 1]\n",
      " [1 0 0 0]\n",
      " [1 0 0 1]\n",
      " [1 0 1 0]\n",
      " [1 0 1 1]\n",
      " [1 1 0 0]\n",
      " [1 1 0 1]\n",
      " [1 1 1 0]\n",
      " [1 1 1 1]] \n",
      "\n",
      "(16, 4) \n",
      "\n",
      "[[1 0 0 0 0]\n",
      " [1 0 0 0 0]\n",
      " [0 1 0 0 0]\n",
      " [0 1 0 0 0]\n",
      " [0 0 1 0 0]\n",
      " [0 0 1 0 0]\n",
      " [0 1 0 0 0]\n",
      " [0 0 1 0 0]\n",
      " [0 0 1 0 0]\n",
      " [0 0 1 0 0]\n",
      " [0 0 0 1 0]\n",
      " [0 0 0 1 0]\n",
      " [0 0 0 0 1]\n",
      " [0 0 0 1 0]\n",
      " [0 0 1 0 0]\n",
      " [0 1 0 0 0]] \n",
      "\n",
      "(16, 5)\n"
     ]
    }
   ],
   "source": [
    "inputs = np.array([[0,0,0,0],[0,0,0,1],[0,0,1,0],[0,0,1,1],\n",
    "                [0,1,0,0],[0,1,0,1],[0,1,1,0],[0,1,1,1],\n",
    "                [1,0,0,0],[1,0,0,1],[1,0,1,0],[1,0,1,1],\n",
    "                [1,1,0,0],[1,1,0,1],[1,1,1,0],[1,1,1,1]])\n",
    "\n",
    "# These target vectors or desired output have no meaning.\n",
    "targets = np.array([[1,0,0,0,0],[1,0,0,0,0],[0,1,0,0,0],[0,1,0,0,0],\n",
    "                   [0,0,1,0,0],[0,0,1,0,0],[0,1,0,0,0],[0,0,1,0,0],\n",
    "                   [0,0,1,0,0],[0,0,1,0,0],[0,0,0,1,0],[0,0,0,1,0],\n",
    "                   [0,0,0,0,1],[0,0,0,1,0],[0,0,1,0,0],[0,1,0,0,0]])\n",
    "print(inputs, '\\n')\n",
    "print(inputs.shape, '\\n')\n",
    "print(targets, '\\n')\n",
    "print(targets.shape)"
   ]
  },
  {
   "cell_type": "code",
   "execution_count": null,
   "metadata": {},
   "outputs": [],
   "source": [
    "# NN with 4 inputs and 5 outputs\n",
    "\n",
    "class NN(object):\n",
    "    def __init__(self):\n",
    "        np.random.seed(2021)\n",
    "        self.w = np.random.randn(5,4)\n",
    "        self.b = np.random.randn(5,1)\n",
    "    \n",
    "    def feedforward(self, x):\n",
    "        \n",
    "        return \n",
    "\n",
    "    def getCost(self, xs, ys):\n",
    "        cost = 0.0\n",
    "        # Note that each input x from xs and corresponding desired output y from ys\n",
    "        # are vectors of shape (4,) and (5,). They must first be rehaped into column\n",
    "        # vectors of shapes (4,1) and (5,1).\n",
    "        \n",
    "            \n",
    "        return cost/16.0"
   ]
  },
  {
   "cell_type": "code",
   "execution_count": null,
   "metadata": {},
   "outputs": [],
   "source": [
    "nn = NN()\n",
    "print(nn.w, '\\n')\n",
    "print(nn.b)"
   ]
  },
  {
   "cell_type": "code",
   "execution_count": null,
   "metadata": {},
   "outputs": [],
   "source": [
    "# Test feed forward on first input vector\n",
    "# The input vector (shape 4,) must first be reshaped to a column vector (shape 4,1)\n",
    "nn.feedforward(inputs[0].reshape(4,1))"
   ]
  },
  {
   "cell_type": "code",
   "execution_count": null,
   "metadata": {},
   "outputs": [],
   "source": [
    "# compute average MSE cost over all input vectors\n",
    "nn.getCost(inputs,targets)"
   ]
  },
  {
   "cell_type": "code",
   "execution_count": null,
   "metadata": {},
   "outputs": [],
   "source": []
  },
  {
   "cell_type": "markdown",
   "metadata": {},
   "source": [
    "Exercise: Copy the above NN class definition and pasted it to a new cell, renaming the class to NN2. Then add a layer of six hidden neurons to it. Modify code in NN2 so that feedforward() and getCost() work on this new architecture. "
   ]
  },
  {
   "cell_type": "code",
   "execution_count": null,
   "metadata": {},
   "outputs": [],
   "source": []
  }
 ],
 "metadata": {
  "kernelspec": {
   "display_name": "Python 3",
   "language": "python",
   "name": "python3"
  },
  "language_info": {
   "codemirror_mode": {
    "name": "ipython",
    "version": 3
   },
   "file_extension": ".py",
   "mimetype": "text/x-python",
   "name": "python",
   "nbconvert_exporter": "python",
   "pygments_lexer": "ipython3",
   "version": "3.8.8"
  }
 },
 "nbformat": 4,
 "nbformat_minor": 4
}
